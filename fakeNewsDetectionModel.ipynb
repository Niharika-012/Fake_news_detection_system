Fake news detection project


import pandas as pd
import re
from nltk.corpus import stopwords
from sklearn.model_selection import  train_test_split
from sklearn.linear_model import LogisticRegression
from sklearn.metrics import accuracy_score, confusion_matrix , classification_report


import nltk
nltk.download('stopwords')

# Mount Google drive 
from google.colab import drive
drive.mount('/content/drive')

# Locate the File in google drive
Path = 'drive/My Drive/Dataset'

# printing stopwords in english
print(stopwords.words('english'))

Data pre-processing

dataset = pd.read_csv(Path+'/train.csv')

dataset.head()

dataset.shape

dataset.isnull().sum()

dataset = dataset.fillna('')

dataset['combine'] = dataset['title']+' '+dataset['author']

print(dataset['combine'])

# separating  lable
X = dataset.drop('label', axis=1)
Y = dataset['label']

print(X)
print(Y)

Stemming :

 

 

from nltk.stem.porter  import PorterStemmer
port_stem = PorterStemmer()


def stemming (combine):
   stem_combine = re.sub('[^a-zA-Z]',' ',combine)
   stem_combine = stem_combine.lower()
   stem_combine = stem_combine.split()
   stem_combine = [port_stem.stem(word) for word in stem_combine if not word in stopwords.words('english') ]
   stem_combine = ' '.join(stem_combine)
   return  stem_combine

dataset['combine'] = dataset['combine'].apply(stemming)

print(dataset['combine'])

# Separating the data 

X = dataset['combine'].values
Y = dataset['label'].values

print(X)

print(Y)

from sklearn.feature_extraction.text import TfidfVectorizer

vector = TfidfVectorizer()
vector.fit(X)
X = vector.transform(X)

print(X)

splitting dataset into training and test data

X_train , X_test , Y_train , Y_test = train_test_split(X , Y , test_size = 0.3 , stratify = Y , random_state = 2)

Training the Model : Logistic Regression

model = LogisticRegression()

model.fit(X_train, Y_train)

Evaluation

# accuracy score on the training model

X_train_pred = model.predict(X_train)
train_data_accuracy = accuracy_score(X_train_pred , Y_train)


print('Accuracy score of the training data : ', train_data_accuracy)

# accuracy score on the test data

X_test_pred = model.predict(X_test)
test_data_accuracy = accuracy_score(X_test_pred , Y_test)

print('Accuracy score of the test data : ', test_data_accuracy)

print('Confusion marix of Logistic regression classifier : \n')
print(confusion_matrix(X_test_pred , Y_test))

print('Classification report of Logistic Regression classifier:\n ')
print(classification_report(X_test_pred , Y_test))

 Predictive System

X_new = X_test[5]

predict = model.predict(X_new)
print(predict)

if (predict[0]==0):
  print('The news is Real')
else:
  print('The news is Fake')

print(Y_test[5])
